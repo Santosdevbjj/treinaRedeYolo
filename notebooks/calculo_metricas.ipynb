{
 "cells": [
  {
   "cell_type": "markdown",
   "metadata": {},
   "source": [
    "# 📊 Cálculo de Métricas de Avaliação de Aprendizado\n",
    "\n",
    "Este notebook demonstra como calcular e interpretar as principais métricas de avaliação em **Machine Learning**, usando Python e Scikit-Learn.\n",
    "\n",
    "O projeto foi estruturado para rodar no Google Colab ou localmente."
   ]
  },
  {
   "cell_type": "code",
   "execution_count": null,
   "metadata": {},
   "outputs": [],
   "source": [
    "# 📌 Importando bibliotecas necessárias\n",
    "import numpy as np\n",
    "import matplotlib.pyplot as plt\n",
    "from sklearn.datasets import make_classification\n",
    "from sklearn.model_selection import train_test_split\n",
    "from sklearn.linear_model import LogisticRegression\n",
    "from sklearn.metrics import accuracy_score, precision_score, recall_score, f1_score, confusion_matrix, classification_report\n",
    "import seaborn as sns"
   ]
  },
  {
   "cell_type": "markdown",
   "metadata": {},
   "source": [
    "## 1️⃣ Gerando um dataset de exemplo\n",
    "Para facilitar a explicação, vamos criar um conjunto de dados sintético usando `make_classification`."
   ]
  },
  {
   "cell_type": "code",
   "execution_count": null,
   "metadata": {},
   "outputs": [],
   "source": [
    "X, y = make_classification(n_samples=1000, n_features=10, n_classes=2, random_state=42)\n",
    "X_train, X_test, y_train, y_test = train_test_split(X, y, test_size=0.3, random_state=42)\n",
    "print(f\"Tamanho do treino: {X_train.shape}, Tamanho do teste: {X_test.shape}\")"
   ]
  },
  {
   "cell_type": "markdown",
   "metadata": {},
   "source": [
    "## 2️⃣ Treinando um modelo de Machine Learning\n",
    "Vamos treinar uma **Regressão Logística** como exemplo."
   ]
  },
  {
   "cell_type": "code",
   "execution_count": null,
   "metadata": {},
   "outputs": [],
   "source": [
    "model = LogisticRegression()\n",
    "model.fit(X_train, y_train)\n",
    "y_pred = model.predict(X_test)"
   ]
  },
  {
   "cell_type": "markdown",
   "metadata": {},
   "source": [
    "## 3️⃣ Cálculo das métricas de avaliação\n",
    "As principais métricas para classificação binária são:\n",
    "- **Accuracy (Acurácia)**\n",
    "- **Precision (Precisão)**\n",
    "- **Recall (Revocação / Sensibilidade)**\n",
    "- **F1-Score**\n",
    "- **Matriz de Confusão**"
   ]
  },
  {
   "cell_type": "code",
   "execution_count": null,
   "metadata": {},
   "outputs": [],
   "source": [
    "accuracy = accuracy_score(y_test, y_pred)\n",
    "precision = precision_score(y_test, y_pred)\n",
    "recall = recall_score(y_test, y_pred)\n",
    "f1 = f1_score(y_test, y_pred)\n",
    "\n",
    "print(\"📌 Resultados das Métricas:\")\n",
    "print(f\"Acurácia: {accuracy:.4f}\")\n",
    "print(f\"Precisão: {precision:.4f}\")\n",
    "print(f\"Recall: {recall:.4f}\")\n",
    "print(f\"F1-Score: {f1:.4f}\")"
   ]
  },
  {
   "cell_type": "markdown",
   "metadata": {},
   "source": [
    "## 4️⃣ Matriz de Confusão\n",
    "Visualizando a performance do modelo em termos de **verdadeiros positivos, verdadeiros negativos, falsos positivos e falsos negativos**."
   ]
  },
  {
   "cell_type": "code",
   "execution_count": null,
   "metadata": {},
   "outputs": [],
   "source": [
    "cm = confusion_matrix(y_test, y_pred)\n",
    "plt.figure(figsize=(6,4))\n",
    "sns.heatmap(cm, annot=True, fmt='d', cmap='Blues', xticklabels=['Classe 0','Classe 1'], yticklabels=['Classe 0','Classe 1'])\n",
    "plt.xlabel('Previsto')\n",
    "plt.ylabel('Real')\n",
    "plt.title('Matriz de Confusão')\n",
    "plt.show()"
   ]
  },
  {
   "cell_type": "markdown",
   "metadata": {},
   "source": [
    "## 5️⃣ Relatório Completo\n",
    "O `classification_report` mostra todas as métricas em uma única tabela."
   ]
  },
  {
   "cell_type": "code",
   "execution_count": null,
   "metadata": {},
   "outputs": [],
   "source": [
    "print(classification_report(y_test, y_pred))"
   ]
  },
  {
   "cell_type": "markdown",
   "metadata": {},
   "source": [
    "## ✅ Conclusão\n",
    "Este notebook mostrou:\n",
    "- Como gerar dados sintéticos;\n",
    "- Treinar um modelo de classificação;\n",
    "- Calcular métricas de avaliação de performance;\n",
    "- Interpretar resultados com relatório e matriz de confusão.\n",
    "\n",
    "Esse é um ponto de partida para qualquer projeto de **avaliação de modelos de Machine Learning**."
   ]
  }
 ],
 "metadata": {
  "kernelspec": {
   "display_name": "Python 3",
   "language": "python",
   "name": "python3"
  },
  "language_info": {
   "name": "python",
   "version": "3.10"
  }
 },
 "nbformat": 4,
 "nbformat_minor": 5
}
