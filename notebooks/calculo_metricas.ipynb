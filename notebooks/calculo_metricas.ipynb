{
 "cells": [
  {
   "cell_type": "markdown",
   "metadata": {},
   "source": [
    "# 📊 Cálculo de Métricas de Avaliação\n",
    "\n",
    "Este notebook demonstra como utilizar o módulo `metrics.py` (em `src/`) para calcular e visualizar métricas de avaliação de modelos de Machine Learning.\n",
    "\n",
    "Funções disponíveis:\n",
    "- `calcular_metricas()` → Acurácia, Precisão, Recall e F1\n",
    "- `exibir_metricas()` → Exibe métricas formatadas\n",
    "- `plotar_matriz_confusao()` → Gera matriz de confusão visual\n",
    "- `gerar_relatorio()` → Relatório detalhado por classe"
   ]
  },
  {
   "cell_type": "code",
   "execution_count": 1,
   "metadata": {},
   "outputs": [],
   "source": [
    "# Instalação de dependências (caso necessário)\n",
    "!pip install -r ../requirements.txt"
   ]
  },
  {
   "cell_type": "code",
   "execution_count": 2,
   "metadata": {},
   "outputs": [],
   "source": [
    "# Importação de bibliotecas e módulo customizado\n",
    "import numpy as np\n",
    "from src.metrics import calcular_metricas, exibir_metricas, plotar_matriz_confusao, gerar_relatorio"
   ]
  },
  {
   "cell_type": "markdown",
   "metadata": {},
   "source": [
    "## 🔹 Simulação de previsões de um modelo\n",
    "\n",
    "Para demonstração, vamos criar valores reais (`y_true`) e previstos (`y_pred`) fictícios. Em um caso real, eles viriam do seu modelo de Machine Learning."
   ]
  },
  {
   "cell_type": "code",
   "execution_count": 3,
   "metadata": {},
   "outputs": [],
   "source": [
    "# Valores reais (ground truth)\n",
    "y_true = np.array([0, 1, 1, 0, 1, 0, 1, 1, 0, 0])\n",
    "\n",
    "# Previsões do modelo\n",
    "y_pred = np.array([0, 0, 1, 0, 1, 1, 1, 1, 0, 0])\n",
    "\n",
    "# Classes (opcional)\n",
    "labels = [\"Classe 0\", \"Classe 1\"]"
   ]
  },
  {
   "cell_type": "markdown",
   "metadata": {},
   "source": [
    "## 📈 Cálculo das métricas principais"
   ]
  },
  {
   "cell_type": "code",
   "execution_count": 4,
   "metadata": {},
   "outputs": [],
   "source": [
    "# Calcula métricas usando o módulo src/metrics.py\n",
    "metrics = calcular_metricas(y_true, y_pred)\n",
    "exibir_metricas(metrics)"
   ]
  },
  {
   "cell_type": "markdown",
   "metadata": {},
   "source": [
    "## 📊 Matriz de Confusão"
   ]
  },
  {
   "cell_type": "code",
   "execution_count": 5,
   "metadata": {},
   "outputs": [],
   "source": [
    "# Plota a matriz de confusão\n",
    "plotar_matriz_confusao(y_true, y_pred, labels=labels)"
   ]
  },
  {
   "cell_type": "markdown",
   "metadata": {},
   "source": [
    "## 📑 Relatório Detalhado"
   ]
  },
  {
   "cell_type": "code",
   "execution_count": 6,
   "metadata": {},
   "outputs": [],
   "source": [
    "# Relatório detalhado de classificação\n",
    "gerar_relatorio(y_true, y_pred, target_names=labels)"
   ]
  }
 ],
 "metadata": {
  "kernelspec": {
   "display_name": "Python 3",
   "language": "python",
   "name": "python3"
  },
  "language_info": {
   "codemirror_mode": {
    "name": "ipython",
    "version": 3
   },
   "file_extension": ".py",
   "mimetype": "text/x-python",
   "name": "python",
   "nbconvert_exporter": "python",
   "pygments_lexer": "ipython3",
   "version": "3.10"
  }
 },
 "nbformat": 4,
 "nbformat_minor": 5
}
