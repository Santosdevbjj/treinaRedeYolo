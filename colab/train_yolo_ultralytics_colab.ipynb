!pip install ultralytics
from ultralytics import YOLO


from google.colab import files
uploaded = files.upload()
!unzip dataset.zip -d dataset/



model = YOLO("yolov8n.pt")  
model.train(data="dataset/data.yaml", epochs=50, imgsz=640, batch=16) 



metrics = model.val()
print(metrics) 


results = model.predict("dataset/images/val/example.jpg", save=True, conf=0.5)
results.show() 


